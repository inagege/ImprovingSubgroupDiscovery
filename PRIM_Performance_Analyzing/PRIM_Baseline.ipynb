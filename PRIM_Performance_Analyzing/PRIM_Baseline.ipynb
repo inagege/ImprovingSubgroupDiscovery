{
 "cells": [
  {
   "cell_type": "code",
   "execution_count": 45,
   "id": "initial_id",
   "metadata": {
    "collapsed": true,
    "ExecuteTime": {
     "end_time": "2023-11-08T14:08:55.737604Z",
     "start_time": "2023-11-08T14:08:55.701591Z"
    }
   },
   "outputs": [],
   "source": [
    "import numpy as np\n",
    "import matplotlib.pyplot as plt\n",
    "import sys\n",
    "from Utils import prim_dens\n",
    "from sklearn.model_selection import train_test_split\n",
    "import pandas as pd\n",
    "import gzip\n",
    "import random\n",
    "from sklearn.preprocessing import MinMaxScaler\n",
    "\n",
    "#http://www.sfu.ca/~ssurjano/oakoh04.html\n",
    "def calculate_y_oakley_ohagan2004(xx):\n",
    "    a1 = np.array([0.0118, 0.0456, 0.2297, 0.0393, 0.1177, 0.3865, 0.3897, 0.6061,\n",
    "                  0.6159, 0.4005, 1.0741, 1.1474, 0.7880, 1.1242, 1.1982])\n",
    "    a2 = np.array([0.4341, 0.0887, 0.0512, 0.3233, 0.1489, 1.0360, 0.9892, 0.9672,\n",
    "                  0.8977, 0.8083, 1.8426, 2.4712, 2.3946, 2.0045, 2.2621])\n",
    "    a3 = np.array([0.1044, 0.2057, 0.0774, 0.2730, 0.1253, 0.7526, 0.8570, 1.0331,\n",
    "                  0.8388, 0.7970, 2.2145, 2.0382, 2.4004, 2.0541, 1.9845])\n",
    "\n",
    "    matrix = np.array([[-0.022482886,  -0.18501666,  0.13418263,   0.36867264,   0.17172785,   0.13651143,  -0.44034404, -0.081422854,   0.71321025,  -0.44361072,   0.50383394, -0.024101458, -0.045939684,   0.21666181,  0.055887417],\n",
    "           [0.25659630,  0.053792287,  0.25800381,   0.23795905,  -0.59125756, -0.081627077,  -0.28749073,   0.41581639,   0.49752241,  0.083893165,  -0.11056683,  0.033222351,  -0.13979497, -0.031020556,  -0.22318721],\n",
    "         [-0.055999811,   0.19542252, 0.095529005,  -0.28626530,  -0.14441303,   0.22369356,   0.14527412,   0.28998481,   0.23105010,  -0.31929879,  -0.29039128,  -0.20956898,   0.43139047,  0.024429152,  0.044904409],\n",
    "           [0.66448103,   0.43069872,  0.29924645,  -0.16202441,  -0.31479544,  -0.39026802,   0.17679822,  0.057952663,   0.17230342,   0.13466011,  -0.35275240,   0.25146896, -0.018810529,   0.36482392,  -0.32504618],\n",
    "          [-0.12127800,   0.12463327,  0.10656519,  0.046562296,  -0.21678617,   0.19492172, -0.065521126,  0.024404669, -0.096828860,   0.19366196,   0.33354757,   0.31295994, -0.083615456,  -0.25342082,   0.37325717],\n",
    "          [-0.28376230,  -0.32820154, -0.10496068,  -0.22073452,  -0.13708154,  -0.14426375,  -0.11503319,   0.22424151, -0.030395022,  -0.51505615,  0.017254978,  0.038957118,   0.36069184,   0.30902452,  0.050030193],\n",
    "         [-0.077875893, 0.0037456560,  0.88685604,  -0.26590028, -0.079325357, -0.042734919,  -0.18653782,  -0.35604718,  -0.17497421,  0.088699956,   0.40025886, -0.055979693,   0.13724479,   0.21485613, -0.011265799],\n",
    "         [-0.092294730,   0.59209563, 0.031338285, -0.033080861,  -0.24308858, -0.099798547,  0.034460195,  0.095119813,  -0.33801620, 0.0063860024,  -0.61207299,  0.081325416,   0.88683114,   0.14254905,   0.14776204],\n",
    "          [-0.13189434,   0.52878496,  0.12652391,  0.045113625,   0.58373514,   0.37291503,   0.11395325,  -0.29479222,  -0.57014085,   0.46291592, -0.094050179,   0.13959097,  -0.38607402,  -0.44897060,  -0.14602419],\n",
    "          [0.058107658,  -0.32289338, 0.093139162,  0.072427234,  -0.56919401,   0.52554237,   0.23656926, -0.011782016,  0.071820601,  0.078277291,  -0.13355752,   0.22722721,   0.14369455,  -0.45198935,  -0.55574794],\n",
    "           [0.66145875,   0.34633299,  0.14098019,   0.51882591,  -0.28019898,  -0.16032260, -0.068413337,  -0.20428242,  0.069672173,   0.23112577, -0.044368579,  -0.16455425,   0.21620977, 0.0042702105, -0.087399014],\n",
    "           [0.31599556, -0.027551859,  0.13434254,   0.13497371,  0.054005680,  -0.17374789,   0.17525393,  0.060258929,  -0.17914162,  -0.31056619,  -0.25358691,  0.025847535,  -0.43006001,  -0.62266361, -0.033996882],\n",
    "          [-0.29038151,  0.034101270, 0.034903413,  -0.12121764,  0.026030714,  -0.33546274,  -0.41424111,  0.053248380,  -0.27099455, -0.026251302,   0.41024137,   0.26636349,   0.15582891,  -0.18666254,  0.019895831],\n",
    "          [-0.24388652,  -0.44098852, 0.012618825,   0.24945112,  0.071101888,   0.24623792,   0.17484502, 0.0085286769,   0.25147070,  -0.14659862, -0.084625150,   0.36931333,  -0.29955293,   0.11044360,  -0.75690139],\n",
    "          [0.041494323,  -0.25980564,  0.46402128,  -0.36112127,  -0.94980789,  -0.16504063, 0.0030943325,  0.052792942,   0.22523648,   0.38390366,   0.45562427,  -0.18631744, 0.0082333995,   0.16670803,   0.16045688]])\n",
    "    matrix = np.reshape(matrix, (15, 15), order='F')  # Reshape M to a 15x15 matrix in Fortran order\n",
    "\n",
    "    term1 = np.dot(a1, xx)\n",
    "    term2 = np.dot(a2, np.sin(xx))\n",
    "    term3 = np.dot(a3, np.cos(xx))\n",
    "    term4 = np.dot(xx.T, np.dot(matrix, xx))\n",
    "\n",
    "    y = term1 + term2 + term3 + term4\n",
    "    \n",
    "    return y.item()"
   ]
  },
  {
   "cell_type": "code",
   "execution_count": 56,
   "outputs": [],
   "source": [
    "def calculate_y_ackley(x, a=20, b=0.2, c=2 * np.pi):\n",
    "    d = len(x)\n",
    "    \n",
    "    sum1 = np.sum(np.power(x, 2))\n",
    "    sum2 = np.sum(np.cos(c * x))\n",
    "    \n",
    "    term1 = -a * np.exp(-b * np.sqrt(sum1 / d))\n",
    "    term2 = -np.exp(sum2 / d)\n",
    "    \n",
    "    y = term1 + term2 + a + np.exp(1)\n",
    "    \n",
    "    return y.item()"
   ],
   "metadata": {
    "collapsed": false,
    "ExecuteTime": {
     "end_time": "2023-11-08T14:24:24.059435Z",
     "start_time": "2023-11-08T14:24:24.046415Z"
    }
   },
   "id": "39a99b2c1c46869a"
  },
  {
   "cell_type": "code",
   "execution_count": 58,
   "outputs": [],
   "source": [
    "def calculate_y_griewank(x):\n",
    "    i = np.arange(1, len(x) + 1)\n",
    "    sum_value = np.sum(np.power(x, 2) / 4000)\n",
    "    prod = np.prod(np.cos(x / np.sqrt(i)))\n",
    "    \n",
    "    y = sum_value - prod + 1\n",
    "    return y"
   ],
   "metadata": {
    "collapsed": false,
    "ExecuteTime": {
     "end_time": "2023-11-08T19:43:46.356920Z",
     "start_time": "2023-11-08T19:43:46.335492Z"
    }
   },
   "id": "222fbca65bd35677"
  },
  {
   "cell_type": "code",
   "execution_count": 46,
   "outputs": [],
   "source": [
    "def calculate_precision_test_data(lims, x_test, y_test):\n",
    "\n",
    "    is_within_limits = True\n",
    "    \n",
    "    # Iterate over each row of temp_data\n",
    "    # Initialize TP, FP, TN, FN counters\n",
    "    tp = 0\n",
    "    fp = 0\n",
    "    tn = 0\n",
    "    fn = 0\n",
    "\n",
    "\n",
    "    # Assuming x_test is a 2D NumPy array and y_test is a 1D NumPy array\n",
    "    for row_index in range(x_test.shape[0]):\n",
    "        for col_index in range(x_test.shape[1]):\n",
    "            element = x_test[row_index, col_index]\n",
    "\n",
    "            # Check if the element is within the limits for the current column\n",
    "            is_within_limits = (lims.iloc[0, col_index] <= element <= lims.iloc[1, col_index]) and is_within_limits # Calculate column index\n",
    "            \n",
    "        if is_within_limits & (y_test[row_index] == 1):\n",
    "            tp = tp + 1\n",
    "        if is_within_limits & (y_test[row_index] == 0):\n",
    "            fp = fp + 1\n",
    "        if is_within_limits & (y_test[row_index] == 0):\n",
    "            tn = tn + 1\n",
    "        if is_within_limits & (y_test[row_index] == 1):\n",
    "            fn = fn + 1\n",
    "        is_within_limits = True\n",
    "            \n",
    "                \n",
    "    if (tp == 0):\n",
    "        return 0\n",
    "    else:\n",
    "        return tp/(tp + fp)"
   ],
   "metadata": {
    "collapsed": false,
    "ExecuteTime": {
     "end_time": "2023-11-08T14:08:57.097710Z",
     "start_time": "2023-11-08T14:08:57.087833Z"
    }
   },
   "id": "915ddf4a33521b2"
  },
  {
   "cell_type": "code",
   "execution_count": 51,
   "outputs": [],
   "source": [
    "def create_plot_generated_data(function_string, dimension_max):    \n",
    "    pts = [50, 100, 200, 400, 800, 1600, 3200, 6400]  # number of points to experiment with\n",
    "    atrs = [5, 10, 15]  # number of dimensions to experiment with\n",
    "    res_train = np.empty((len(pts), len(atrs)))  # matrix with the results\n",
    "    res_train[:] = np.nan\n",
    "    res_test = np.empty((len(pts), len(atrs)))  # matrix with the results\n",
    "    res_test[:] = np.nan\n",
    "    y_test = []\n",
    "    k = 1\n",
    "\n",
    "    x_test = np.random.rand(500, dimension_max)\n",
    "    x_test  = pd.DataFrame(x_test)\n",
    "    for index, row in x_test.iterrows():\n",
    "        y_test.append(function_string(row))\n",
    "\n",
    "    min_value = np.min(y_test)\n",
    "    max_value = np.max(y_test)\n",
    "    y_test = (y_test - min_value) / (max_value - min_value)\n",
    "    y_test = np.where(y_test > 0.5, 1, 0)\n",
    "\n",
    "    for n in range(len(pts)):\n",
    "        for m in range(len(atrs)):\n",
    "            prec_train = []\n",
    "            prec_test = []\n",
    "            for i in range(50):  # for each dataset size (n rows, m columns) do five experiments and average the results\n",
    "                y = []\n",
    "                sys.stdout.write('\\r' + 'experiment' + ' ' + str(k) + '/' + str(len(pts)*len(atrs)))\n",
    "                x = np.random.rand(pts[n], dimension_max)\n",
    "                x  = pd.DataFrame(x)\n",
    "            \n",
    "                for index, row in x.iterrows():\n",
    "                    y.append(function_string(row))\n",
    "\n",
    "                min_value = np.min(y)\n",
    "                max_value = np.max(y)\n",
    "                y = (y - min_value) / (max_value - min_value)\n",
    "                y = np.where(y > 0.5, 1, 0)\n",
    "            \n",
    "                num_columns_to_select = atrs[m]\n",
    "\n",
    "                # Select random columns\n",
    "                selected_columns = random.sample(list(x.columns), num_columns_to_select)\n",
    "                x = x[selected_columns]\n",
    "            \n",
    "                x_test_temp = x_test[selected_columns]\n",
    "            \n",
    "                prim_alg = prim_dens.PRIMdens(x.values, y, alpha=0.1)\n",
    "                prim_alg.fit()\n",
    "                precisions = prim_alg.get_precisions()\n",
    "                if len(precisions) <= 0:\n",
    "                    prec_train.append(0)\n",
    "                else:\n",
    "                    prec_train.append(precisions[len(precisions)-1])\n",
    "                boxes = prim_alg.get_boxes()\n",
    "                if len(boxes) <= 0:\n",
    "                    prec_test.append(0)\n",
    "                else:\n",
    "                    box = boxes[len(boxes) - 1]\n",
    "                    box = pd.DataFrame(box)\n",
    "                    prec_test.append(calculate_precision_test_data(box, x_test_temp.values, y_test))           \n",
    "        \n",
    "            res_train[n, m] = np.mean(prec_train)\n",
    "            res_test[n, m] = np.mean(prec_test)\n",
    "            k = k + 1\n",
    "\n",
    "    plt.imshow(res_train-res_test, cmap='hot')\n",
    "    plt.yticks(np.arange(len(pts)), pts)\n",
    "    plt.xticks(np.arange(len(atrs)), atrs)\n",
    "    plt.colorbar()\n",
    "    plt.show()"
   ],
   "metadata": {
    "collapsed": false,
    "ExecuteTime": {
     "end_time": "2023-11-08T14:17:47.394779Z",
     "start_time": "2023-11-08T14:17:47.314556Z"
    }
   },
   "id": "3d2781e0c6dbc246"
  },
  {
   "cell_type": "code",
   "execution_count": 52,
   "outputs": [
    {
     "name": "stdout",
     "output_type": "stream",
     "text": [
      "experiment 24/24"
     ]
    },
    {
     "data": {
      "text/plain": "<Figure size 640x480 with 2 Axes>",
      "image/png": "[encoded data removed]"
     },
     "metadata": {},
     "output_type": "display_data"
    }
   ],
   "source": [
    "create_plot_generated_data(calculate_y_oakley_ohagan2004, 15)"
   ],
   "metadata": {
    "collapsed": false,
    "ExecuteTime": {
     "end_time": "2023-11-08T14:23:49.004651Z",
     "start_time": "2023-11-08T14:17:51.972659Z"
    }
   },
   "id": "4d58462ebab32390"
  },
  {
   "cell_type": "code",
   "execution_count": 57,
   "outputs": [
    {
     "name": "stdout",
     "output_type": "stream",
     "text": [
      "experiment 24/24"
     ]
    },
    {
     "data": {
      "text/plain": "<Figure size 640x480 with 2 Axes>",
      "image/png": "[encoded data removed]"
     },
     "metadata": {},
     "output_type": "display_data"
    }
   ],
   "source": [
    "create_plot_generated_data(calculate_y_ackley, 15)"
   ],
   "metadata": {
    "collapsed": false,
    "ExecuteTime": {
     "end_time": "2023-11-08T14:33:11.550039Z",
     "start_time": "2023-11-08T14:24:31.500869Z"
    }
   },
   "id": "4c06dddc48d549d9"
  },
  {
   "cell_type": "code",
   "execution_count": 60,
   "outputs": [
    {
     "name": "stdout",
     "output_type": "stream",
     "text": [
      "experiment 24/24"
     ]
    },
    {
     "data": {
      "text/plain": "<Figure size 640x480 with 2 Axes>",
      "image/png": "[encoded data removed]"
     },
     "metadata": {},
     "output_type": "display_data"
    }
   ],
   "source": [
    "create_plot_generated_data(calculate_y_griewank, 15)"
   ],
   "metadata": {
    "collapsed": false,
    "ExecuteTime": {
     "end_time": "2023-11-08T19:55:48.501484Z",
     "start_time": "2023-11-08T19:44:35.027727Z"
    }
   },
   "id": "72555a0b806b3acf"
  },
  {
   "cell_type": "code",
   "execution_count": 9,
   "outputs": [
    {
     "name": "stdout",
     "output_type": "stream",
     "text": [
      "         0.000000000000000000e+00  9.728614687919616699e-01  \\\n",
      "0                             1.0                  1.667973   \n",
      "1                             1.0                  0.444840   \n",
      "2                             1.0                  0.381256   \n",
      "3                             1.0                  1.309996   \n",
      "4                             0.0                  0.456398   \n",
      "...                           ...                       ...   \n",
      "4999994                       1.0                  0.853325   \n",
      "4999995                       0.0                  0.951581   \n",
      "4999996                       0.0                  0.840389   \n",
      "4999997                       1.0                  1.784218   \n",
      "4999998                       0.0                  0.761500   \n",
      "\n",
      "         6.538545489311218262e-01  1.176224589347839355e+00  \\\n",
      "0                        0.064191                 -1.225171   \n",
      "1                       -0.134298                 -0.709972   \n",
      "2                       -0.976145                  0.693152   \n",
      "3                       -0.690089                 -0.676259   \n",
      "4                        1.099371                  1.512453   \n",
      "...                           ...                       ...   \n",
      "4999994                 -0.961783                 -1.487277   \n",
      "4999995                  0.139370                  1.436884   \n",
      "4999996                  1.419162                 -1.218766   \n",
      "4999997                 -0.833565                 -0.560091   \n",
      "4999998                  0.680454                 -1.186213   \n",
      "\n",
      "         1.157156467437744141e+00  -1.739873170852661133e+00  \\\n",
      "0                        0.506102                  -0.338939   \n",
      "1                        0.451719                  -1.613871   \n",
      "2                        0.448959                   0.891753   \n",
      "3                        1.589283                  -0.693326   \n",
      "4                        0.751772                   0.638967   \n",
      "...                           ...                        ...   \n",
      "4999994                  0.678190                   0.493580   \n",
      "4999995                  0.880440                  -0.351948   \n",
      "4999996                  1.195631                   1.695645   \n",
      "4999997                  0.953342                  -0.688969   \n",
      "4999998                  1.043521                  -0.316755   \n",
      "\n",
      "         -8.743090629577636719e-01  5.677649974822998047e-01  \\\n",
      "0                         1.672543                  3.475464   \n",
      "1                        -0.768661                  1.219918   \n",
      "2                        -0.677328                  2.033060   \n",
      "3                         0.622907                  1.087562   \n",
      "4                        -0.742216                  0.322601   \n",
      "...                            ...                       ...   \n",
      "4999994                   1.647969                  1.843867   \n",
      "4999995                  -0.740852                  0.290863   \n",
      "4999996                   0.663756                  0.490888   \n",
      "4999997                  -1.428233                  2.660703   \n",
      "4999998                   0.246879                  1.120280   \n",
      "\n",
      "         -1.750000417232513428e-01  8.100607395172119141e-01  \\\n",
      "0                        -1.219136                  0.012955   \n",
      "1                         0.504026                  1.831248   \n",
      "2                         1.533041                  3.046260   \n",
      "3                        -0.381742                  0.589204   \n",
      "4                         1.321054                  0.169502   \n",
      "...                            ...                       ...   \n",
      "4999994                   0.276954                  1.025105   \n",
      "4999995                  -0.732360                  0.001360   \n",
      "4999996                  -0.509186                  0.704289   \n",
      "4999997                  -0.861344                  2.116892   \n",
      "4999998                   0.998479                  1.640881   \n",
      "\n",
      "         -2.525521218776702881e-01  1.921887040138244629e+00  \\\n",
      "0                         3.775174                  1.045977   \n",
      "1                        -0.431385                  0.526283   \n",
      "2                        -1.005285                  0.569386   \n",
      "3                         1.365479                  1.179295   \n",
      "4                         0.359941                  0.489256   \n",
      "...                            ...                       ...   \n",
      "4999994                  -1.486535                  0.892879   \n",
      "4999995                   0.257738                  0.802871   \n",
      "4999996                   0.045744                  0.825015   \n",
      "4999997                   2.906151                  1.232334   \n",
      "4999998                  -0.797688                  0.854212   \n",
      "\n",
      "         8.896374106407165527e-01  4.107718467712402344e-01  \\\n",
      "0                        0.568051                  0.481928   \n",
      "1                        0.941514                  1.587535   \n",
      "2                        1.015211                  1.582217   \n",
      "3                        0.968218                  0.728563   \n",
      "4                        0.416168                  0.754829   \n",
      "...                           ...                       ...   \n",
      "4999994                  1.684429                  1.674084   \n",
      "4999995                  0.545319                  0.602730   \n",
      "4999996                  0.723530                  0.778236   \n",
      "4999997                  0.952444                  0.685846   \n",
      "4999998                  1.121858                  1.165438   \n",
      "\n",
      "         1.145620822906494141e+00  1.932632088661193848e+00  \\\n",
      "0                        0.000000                  0.448410   \n",
      "1                        2.024308                  0.603498   \n",
      "2                        1.551914                  0.761215   \n",
      "3                        0.000000                  1.083158   \n",
      "4                        0.303750                  0.461067   \n",
      "...                           ...                       ...   \n",
      "4999994                  3.366298                  1.046707   \n",
      "4999995                  0.002998                  0.748959   \n",
      "4999996                  0.752942                  0.838953   \n",
      "4999997                  0.000000                  0.781874   \n",
      "4999998                  1.498351                  0.931580   \n",
      "\n",
      "         9.944640994071960449e-01  1.367815494537353516e+00  \\\n",
      "0                        0.205356                  1.321893   \n",
      "1                        1.562374                  1.135454   \n",
      "2                        1.715464                  1.492257   \n",
      "3                        0.043429                  1.154854   \n",
      "4                        0.345541                  0.733242   \n",
      "...                           ...                       ...   \n",
      "4999994                  2.646649                  1.389226   \n",
      "4999995                  0.401166                  0.443471   \n",
      "4999996                  0.614048                  1.210595   \n",
      "4999997                  0.676003                  1.197807   \n",
      "4999998                  1.293524                  1.539167   \n",
      "\n",
      "         4.071449860930442810e-02  \n",
      "0                        0.377584  \n",
      "1                        0.180910  \n",
      "2                        0.090719  \n",
      "3                        0.094859  \n",
      "4                        0.186044  \n",
      "...                           ...  \n",
      "4999994                  0.364599  \n",
      "4999995                  0.239953  \n",
      "4999996                  0.026692  \n",
      "4999997                  0.093689  \n",
      "4999998                  0.187496  \n",
      "\n",
      "[4999999 rows x 19 columns]\n"
     ]
    }
   ],
   "source": [
    "# Path to the Susy dataset .zip file\n",
    "gz_file_path = '/Users/inagege/Documents/00_Uni/Bachelorarbeit/ImprovingSubgroupDiscovery/Data/SUSY.csv.gz'\n",
    "\n",
    "# Open the Gzip-compressed CSV file\n",
    "with gzip.open(gz_file_path, 'rb') as gz_file:\n",
    "    # Read the dataset into a DataFrame\n",
    "    data = pd.read_csv(gz_file)\n",
    "\n",
    "print(data)"
   ],
   "metadata": {
    "collapsed": false,
    "ExecuteTime": {
     "end_time": "2023-11-06T17:36:05.376645Z",
     "start_time": "2023-11-06T17:35:45.818325Z"
    }
   },
   "id": "f900ac9d5b70aa84"
  },
  {
   "cell_type": "code",
   "execution_count": 10,
   "outputs": [
    {
     "name": "stdout",
     "output_type": "stream",
     "text": [
      "         label  lepton  1 pT  lepton  1 eta  lepton  1 phi  lepton  2 pT  \\\n",
      "0          1.0      0.069615       0.515424       0.146879      0.002377   \n",
      "1          1.0      0.009358       0.468216       0.295368      0.000709   \n",
      "2          1.0      0.006226       0.267992       0.699770      0.000625   \n",
      "3          1.0      0.051980       0.336027       0.305084      0.035597   \n",
      "4          0.0      0.009928       0.761630       0.935905      0.009912   \n",
      "...        ...           ...            ...            ...           ...   \n",
      "4999994    1.0      0.029482       0.271408       0.071337      0.007655   \n",
      "4999995    0.0      0.034323       0.533305       0.914125      0.013858   \n",
      "4999996    0.0      0.028845       0.837689       0.148726      0.023524   \n",
      "4999997    1.0      0.075342       0.301903       0.338566      0.016093   \n",
      "4999998    0.0      0.024958       0.661996       0.158108      0.018859   \n",
      "\n",
      "         lepton  2 eta  lepton  2 phi  missing energy magnitude  \\\n",
      "0             0.417663       0.982085                  0.164947   \n",
      "1             0.108141       0.278343                  0.057890   \n",
      "2             0.716446       0.304672                  0.096485   \n",
      "3             0.331627       0.679500                  0.051608   \n",
      "4             0.655075       0.285967                  0.015300   \n",
      "...                ...            ...                       ...   \n",
      "4999994       0.619779       0.975001                  0.087505   \n",
      "4999995       0.414505       0.286360                  0.013793   \n",
      "4999996       0.911611       0.691276                  0.023287   \n",
      "4999997       0.332685       0.088204                  0.126275   \n",
      "4999998       0.423049       0.571100                  0.053161   \n",
      "\n",
      "         missing energy phi   MET_rel  axial MET       M_R    M_TR_2  \\\n",
      "0                  0.146485  0.000554   0.550812  0.037421  0.035075   \n",
      "1                  0.643387  0.078304   0.437752  0.012446  0.058177   \n",
      "2                  0.940121  0.130258   0.422328  0.014517  0.062736   \n",
      "3                  0.387962  0.025194   0.486047  0.043828  0.059829   \n",
      "4                  0.878991  0.007248   0.459021  0.010666  0.025679   \n",
      "...                     ...       ...        ...       ...       ...   \n",
      "4999994            0.577908  0.043833   0.409393  0.030063  0.104133   \n",
      "4999995            0.286855  0.000058   0.456274  0.025738  0.033669   \n",
      "4999996            0.351211  0.030115   0.450576  0.026802  0.044693   \n",
      "4999997            0.249660  0.090518   0.527455  0.046377  0.058853   \n",
      "4999998            0.785971  0.070164   0.427907  0.028205  0.069333   \n",
      "\n",
      "                R       MT2       S_R  M_Delta_R  dPhi_r_b  cos(theta_r1)  \n",
      "0        0.071314  0.000000  0.019932   0.012871  0.830512       0.377584  \n",
      "1        0.235614  0.097858  0.027274   0.099808  0.713377       0.180910  \n",
      "2        0.234824  0.075022  0.034740   0.109615  0.937547       0.090719  \n",
      "3        0.107965  0.000000  0.049980   0.002497  0.725566       0.094859  \n",
      "4        0.111868  0.014684  0.020531   0.021852  0.460677       0.186044  \n",
      "...           ...       ...       ...        ...       ...            ...  \n",
      "4999994  0.248476  0.162731  0.048254   0.169271  0.872816       0.364599  \n",
      "4999995  0.089266  0.000145  0.034160   0.025415  0.278622       0.239953  \n",
      "4999996  0.115347  0.036398  0.038420   0.039053  0.760586       0.026692  \n",
      "4999997  0.101617  0.000000  0.035718   0.043023  0.752552       0.093689  \n",
      "4999998  0.172888  0.072432  0.042804   0.082584  0.967020       0.187496  \n",
      "\n",
      "[4999999 rows x 19 columns]\n"
     ]
    }
   ],
   "source": [
    "columns = ['label', 'lepton  1 pT', 'lepton  1 eta', 'lepton  1 phi', 'lepton  2 pT', 'lepton  2 eta', 'lepton  2 phi', 'missing energy magnitude', 'missing energy phi', 'MET_rel', 'axial MET', 'M_R', 'M_TR_2', 'R', 'MT2', 'S_R', 'M_Delta_R', 'dPhi_r_b', 'cos(theta_r1)']\n",
    "\n",
    "scaler = MinMaxScaler()\n",
    "data1 = data\n",
    "data = scaler.fit_transform(data)\n",
    "data = pd.DataFrame(data, index = data1.index, columns=columns)\n",
    "\n",
    "print(data)"
   ],
   "metadata": {
    "collapsed": false,
    "ExecuteTime": {
     "end_time": "2023-11-06T17:36:08.697693Z",
     "start_time": "2023-11-06T17:36:07.406248Z"
    }
   },
   "id": "374e59670965417e"
  },
  {
   "cell_type": "code",
   "execution_count": 13,
   "outputs": [
    {
     "name": "stdout",
     "output_type": "stream",
     "text": [
      "experiment 32/32"
     ]
    },
    {
     "data": {
      "text/plain": "<Figure size 640x480 with 2 Axes>",
      "image/png": "[encoded data removed]"
     },
     "metadata": {},
     "output_type": "display_data"
    }
   ],
   "source": [
    "pts = [50, 100, 200, 400, 800, 1600, 3200, 6400]  # number of points to experiment with\n",
    "atrs = [5, 10, 15, 18]  # number of dimensions to experiment with\n",
    "res_train = np.empty((len(pts), len(atrs)))  # matrix with the results\n",
    "res_train[:] = np.nan\n",
    "res_test = np.empty((len(pts), len(atrs)))  # matrix with the results\n",
    "res_test[:] = np.nan\n",
    "k = 1\n",
    "\n",
    "for n in range(len(pts)):\n",
    "    for m in range(len(atrs)):\n",
    "        prec_train = []\n",
    "        prec_test = []\n",
    "        for i in range(50):  # for each dataset size (n rows, m columns) do five experiments and average the results\n",
    "            sys.stdout.write('\\r' + 'experiment' + ' ' + str(k) + '/' + str(len(pts)*len(atrs)))\n",
    "            \n",
    "            num_columns_to_select = atrs[m]  # Change this to the number of columns you need\n",
    "            label_column = None\n",
    "            \n",
    "            data_temp = data.copy()\n",
    "            label_column = data_temp['label']\n",
    "            data_temp.drop('label', axis=1, inplace=True)\n",
    "\n",
    "                # Select random columns\n",
    "            selected_columns = random.sample(list(data_temp.columns), num_columns_to_select)\n",
    "\n",
    "                # Create a new DataFrame with the selected columns\n",
    "            data_temp = data_temp[selected_columns]\n",
    "            data_temp.insert(loc=0, column='label', value=label_column)\n",
    "            \n",
    "                #sampeling a subset of the whole data set\n",
    "            sample_train, sample_test = train_test_split(data_temp, test_size=pts[n], train_size=pts[n]*2, stratify=data_temp['label'])\n",
    "        \n",
    "            sample_train = pd.DataFrame(data=sample_train.values, columns=sample_train.columns)\n",
    "            sample_test = pd.DataFrame(data=sample_test.values, columns=sample_test.columns)\n",
    "\n",
    "            y = sample_train['label'].values\n",
    "            sample_train.drop('label', axis=1, inplace=True)\n",
    "            x = sample_train.values\n",
    "            \n",
    "            y_test = sample_test['label']\n",
    "            sample_test.drop('label', axis=1, inplace=True)\n",
    "            x_test = sample_test.values\n",
    "            \n",
    "            prim_alg = prim_dens.PRIMdens(x, y, alpha=0.1)\n",
    "            prim_alg.fit()\n",
    "            precisions = prim_alg.get_precisions()\n",
    "            if len(precisions) <= 0:\n",
    "                prec_train.append(0)\n",
    "            else:\n",
    "                prec_train.append(precisions[len(precisions)-1])\n",
    "            boxes = prim_alg.get_boxes()\n",
    "            if len(boxes) <= 0:\n",
    "                prec_test.append(0)\n",
    "            else:\n",
    "                box = boxes[len(boxes) - 1]\n",
    "                box = pd.DataFrame(box)\n",
    "                prec_test.append(calculate_precision_test_data(box, x_test, y_test))           \n",
    "        \n",
    "        res_train[n, m] = np.mean(prec_train)\n",
    "        res_test[n, m] = np.mean(prec_test) \n",
    "        k = k + 1\n",
    "\n",
    "plt.imshow(res_train-res_test, cmap='hot')\n",
    "plt.yticks(np.arange(len(pts)), pts)\n",
    "plt.xticks(np.arange(len(atrs)), atrs)\n",
    "plt.colorbar()\n",
    "plt.show()"
   ],
   "metadata": {
    "collapsed": false,
    "ExecuteTime": {
     "end_time": "2023-11-06T18:28:14.698682Z",
     "start_time": "2023-11-06T17:42:49.135449Z"
    }
   },
   "id": "12fd89a7b6c2fdce"
  },
  {
   "cell_type": "code",
   "execution_count": 16,
   "outputs": [
    {
     "name": "stdout",
     "output_type": "stream",
     "text": [
      "          label  lepton  pT  lepton  eta  lepton  phi  \\\n",
      "0           1.0    0.053521       0.5676     0.603005   \n",
      "1           1.0    0.044328       0.8020     0.030563   \n",
      "2           0.0    0.090466       0.3200     0.768393   \n",
      "3           1.0    0.070221       0.5660     0.936646   \n",
      "4           0.0    0.111732       0.3752     0.501925   \n",
      "...         ...         ...          ...          ...   \n",
      "10999994    1.0    0.074865       0.7082     0.531055   \n",
      "10999995    1.0    0.029067       0.2920     0.818375   \n",
      "10999996    1.0    0.036016       0.6590     0.936010   \n",
      "10999997    0.0    0.076397       0.5242     0.133552   \n",
      "10999998    0.0    0.016050       0.4308     0.565597   \n",
      "\n",
      "          missing energy magnitude  missing energy phi  jet 1 pt  jet 1 eta  \\\n",
      "0                         0.097277            0.410339  0.097729   0.406135   \n",
      "1                         0.029457            0.622153  0.098682   0.715905   \n",
      "2                         0.129367            0.753154  0.168171   0.222741   \n",
      "3                         0.057322            0.154449  0.055490   0.319773   \n",
      "4                         0.118092            0.468008  0.072432   0.404635   \n",
      "...                            ...                 ...       ...        ...   \n",
      "10999994                  0.097118            0.345950  0.224923   0.358620   \n",
      "10999995                  0.061104            0.391358  0.088459   0.558686   \n",
      "10999996                  0.055004            0.560671  0.097729   0.508836   \n",
      "10999997                  0.121080            0.332523  0.087833   0.287096   \n",
      "10999998                  0.061985            0.251054  0.029838   0.454318   \n",
      "\n",
      "          jet 1 phi  jet 1 b-tag  ...  jet 4 eta  jet 4 phi  jet 4 b-tag  \\\n",
      "0          0.043934          1.0  ...   0.271924   0.499667          0.0   \n",
      "1          0.896692          0.0  ...   0.725909   0.758205          0.0   \n",
      "2          0.229379          0.0  ...   0.364121   0.109675          0.0   \n",
      "3          0.235268          0.0  ...   0.425142   0.532329          0.0   \n",
      "4          0.953997          1.0  ...   0.368956   0.134348          1.0   \n",
      "...             ...          ...  ...        ...        ...          ...   \n",
      "10999994   0.879182          0.0  ...   0.480494   0.841457          1.0   \n",
      "10999995   0.017987          1.0  ...   0.456486   0.800866          1.0   \n",
      "10999996   0.507019          1.0  ...   0.817272   0.991563          0.0   \n",
      "10999997   0.866448          0.0  ...   0.780093   0.123205          0.0   \n",
      "10999998   0.140397          1.0  ...   0.169056   0.331731          0.0   \n",
      "\n",
      "              m_jj     m_jjj      m_lv     m_jlv      m_bb     m_wbb    m_wwbb  \n",
      "0         0.005662  0.031445  0.114120  0.059877  0.041314  0.062246  0.058135  \n",
      "1         0.020806  0.045090  0.114119  0.057983  0.042641  0.050959  0.055869  \n",
      "2         0.021726  0.041143  0.115758  0.042198  0.046364  0.065315  0.077971  \n",
      "3         0.016970  0.057617  0.114235  0.049969  0.061272  0.051523  0.059396  \n",
      "4         0.018663  0.036657  0.112357  0.046507  0.021603  0.059479  0.077960  \n",
      "...            ...       ...       ...       ...       ...       ...       ...  \n",
      "10999994  0.018622  0.028160  0.116205  0.065761  0.044547  0.050472  0.054920  \n",
      "10999995  0.018739  0.039215  0.119607  0.075558  0.047622  0.057437  0.066455  \n",
      "10999996  0.006538  0.032048  0.114361  0.053177  0.103899  0.076656  0.074661  \n",
      "10999997  0.019038  0.033915  0.141388  0.057126  0.016474  0.041420  0.048286  \n",
      "10999998  0.016887  0.026869  0.114274  0.037645  0.029818  0.021990  0.023210  \n",
      "\n",
      "[10999999 rows x 29 columns]\n"
     ]
    }
   ],
   "source": [
    "gz_file_path = '/Users/inagege/Documents/00_Uni/Bachelorarbeit/ImprovingSubgroupDiscovery/Data/HIGGS.csv.gz'\n",
    "\n",
    "# Open the Gzip-compressed CSV file\n",
    "with gzip.open(gz_file_path, 'rb') as gz_file:\n",
    "    # Read the dataset into a DataFrame\n",
    "    data = pd.read_csv(gz_file)\n",
    "\n",
    "columns = ['label', 'lepton  pT', 'lepton  eta', 'lepton  phi', 'missing energy magnitude', 'missing energy phi', 'jet 1 pt', 'jet 1 eta', 'jet 1 phi', 'jet 1 b-tag', 'jet 2 pt', 'jet 2 eta', 'jet 2 phi', 'jet 2 b-tag', 'jet 3 pt', 'jet 3 eta', 'jet 3 phi', 'jet 3 b-tag', 'jet 4 pt', 'jet 4 eta', 'jet 4 phi', 'jet 4 b-tag', 'm_jj', 'm_jjj', 'm_lv', 'm_jlv', 'm_bb', 'm_wbb', 'm_wwbb']\n",
    "\n",
    "scaler = MinMaxScaler()\n",
    "data1 = data\n",
    "data = scaler.fit_transform(data)\n",
    "data = pd.DataFrame(data, index=data1.index, columns=columns)\n",
    "\n",
    "print(data)"
   ],
   "metadata": {
    "collapsed": false,
    "ExecuteTime": {
     "end_time": "2023-11-06T19:21:15.365694Z",
     "start_time": "2023-11-06T19:19:47.495496Z"
    }
   },
   "id": "d1ab341f2c5cf2c"
  },
  {
   "cell_type": "code",
   "execution_count": 17,
   "outputs": [
    {
     "name": "stdout",
     "output_type": "stream",
     "text": [
      "experiment 32/32"
     ]
    },
    {
     "data": {
      "text/plain": "<Figure size 640x480 with 2 Axes>",
      "image/png": "[encoded data removed]"
     },
     "metadata": {},
     "output_type": "display_data"
    }
   ],
   "source": [
    "pts = [50, 100, 200, 400, 800, 1600, 3200, 6400]  # number of points to experiment with\n",
    "atrs = [5, 10, 15, 18]  # number of dimensions to experiment with\n",
    "res_train = np.empty((len(pts), len(atrs)))  # matrix with the results\n",
    "res_train[:] = np.nan\n",
    "res_test = np.empty((len(pts), len(atrs)))  # matrix with the results\n",
    "res_test[:] = np.nan\n",
    "k = 1\n",
    "\n",
    "for n in range(len(pts)):\n",
    "    for m in range(len(atrs)):\n",
    "        prec_train = []\n",
    "        prec_test = []\n",
    "        for i in range(50):  # for each dataset size (n rows, m columns) do five experiments and average the results\n",
    "            sys.stdout.write('\\r' + 'experiment' + ' ' + str(k) + '/' + str(len(pts) * len(atrs)))\n",
    "\n",
    "            num_columns_to_select = atrs[m]  # Change this to the number of columns you need\n",
    "            label_column = None\n",
    "\n",
    "            data_temp = data.copy()\n",
    "            label_column = data_temp['label']\n",
    "            data_temp.drop('label', axis=1, inplace=True)\n",
    "\n",
    "            # Select random columns\n",
    "            selected_columns = random.sample(list(data_temp.columns), num_columns_to_select)\n",
    "\n",
    "            # Create a new DataFrame with the selected columns\n",
    "            data_temp = data_temp[selected_columns]\n",
    "            data_temp.insert(loc=0, column='label', value=label_column)\n",
    "\n",
    "            #sampeling a subset of the whole data set\n",
    "            sample_train, sample_test = train_test_split(data_temp, test_size=pts[n], train_size=pts[n] * 2, stratify=data_temp['label'])\n",
    "\n",
    "            sample_train = pd.DataFrame(data=sample_train.values, columns=sample_train.columns)\n",
    "            sample_test = pd.DataFrame(data=sample_test.values, columns=sample_test.columns)\n",
    "\n",
    "            y = sample_train['label'].values\n",
    "            sample_train.drop('label', axis=1, inplace=True)\n",
    "            x = sample_train.values\n",
    "\n",
    "            y_test = sample_test['label']\n",
    "            sample_test.drop('label', axis=1, inplace=True)\n",
    "            x_test = sample_test.values\n",
    "\n",
    "            prim_alg = prim_dens.PRIMdens(x, y, alpha=0.1)\n",
    "            prim_alg.fit()\n",
    "            precisions = prim_alg.get_precisions()\n",
    "            if len(precisions) <= 0:\n",
    "                prec_train.append(0)\n",
    "            else:\n",
    "                prec_train.append(precisions[len(precisions) - 1])\n",
    "            boxes = prim_alg.get_boxes()\n",
    "            if len(boxes) <= 0:\n",
    "                prec_test.append(0)\n",
    "            else:\n",
    "                box = boxes[len(boxes) - 1]\n",
    "                box = pd.DataFrame(box)\n",
    "                prec_test.append(calculate_precision_test_data(box, x_test, y_test))\n",
    "\n",
    "        res_train[n, m] = np.mean(prec_train)\n",
    "        res_test[n, m] = np.mean(prec_test)\n",
    "        k = k + 1\n",
    "\n",
    "plt.imshow(res_train - res_test, cmap='hot')\n",
    "plt.yticks(np.arange(len(pts)), pts)\n",
    "plt.xticks(np.arange(len(atrs)), atrs)\n",
    "plt.colorbar()\n",
    "plt.show()"
   ],
   "metadata": {
    "collapsed": false,
    "ExecuteTime": {
     "end_time": "2023-11-07T02:11:25.978489Z",
     "start_time": "2023-11-06T19:21:20.408184Z"
    }
   },
   "id": "dfccf21a6ae65a17"
  },
  {
   "cell_type": "code",
   "execution_count": null,
   "outputs": [],
   "source": [],
   "metadata": {
    "collapsed": false
   },
   "id": "1ee90faca3751be1"
  }
 ],
 "metadata": {
  "kernelspec": {
   "display_name": "Python 3",
   "language": "python",
   "name": "python3"
  },
  "language_info": {
   "codemirror_mode": {
    "name": "ipython",
    "version": 2
   },
   "file_extension": ".py",
   "mimetype": "text/x-python",
   "name": "python",
   "nbconvert_exporter": "python",
   "pygments_lexer": "ipython2",
   "version": "2.7.6"
  }
 },
 "nbformat": 4,
 "nbformat_minor": 5
}
