{
 "cells": [
  {
   "cell_type": "code",
   "execution_count": 2,
   "id": "initial_id",
   "metadata": {
    "collapsed": true,
    "ExecuteTime": {
     "end_time": "2023-10-07T09:12:17.333390Z",
     "start_time": "2023-10-07T09:11:17.671185Z"
    }
   },
   "outputs": [
    {
     "name": "stdout",
     "output_type": "stream",
     "text": [
      "experiment 32/32[[0.93589744 0.99047619 1.         1.        ]\n",
      " [0.6722807  0.96843678 0.97484848 1.        ]\n",
      " [0.72744755 0.97250149 0.97142857 0.99459459]\n",
      " [0.57933333 0.85278904 0.9850172  0.99473684]\n",
      " [0.5535     0.86433841 0.9180242  0.9445843 ]\n",
      " [0.503875   0.61861231 0.69503882 0.83591053]\n",
      " [0.505      0.4871875  0.4990625  0.56084722]\n",
      " [0.493      0.495875   0.50490625 0.49725   ]]\n"
     ]
    },
    {
     "data": {
      "text/plain": "<Figure size 640x480 with 1 Axes>",
      "image/png": "[encoded data removed]"
     },
     "metadata": {},
     "output_type": "display_data"
    }
   ],
   "source": [
    "import numpy as np\n",
    "import matplotlib.pyplot as plt\n",
    "import sys\n",
    "from ema_workbench.analysis import prim\n",
    "\n",
    "def generate_points(n, m):\n",
    "    # Generate n x m matrix of random points in [0, 1]\n",
    "    x = np.random.rand(n, m)\n",
    "    \n",
    "    # Generate a vector of n random labels (0 or 1)\n",
    "    y = np.random.choice([0, 1], n, replace=True)\n",
    "    \n",
    "    # Return as a dictionary\n",
    "    return x, y\n",
    "\n",
    "pts = [50, 100, 200, 400, 800, 1600, 3200, 6400]  # number of points to experiment with\n",
    "atrs = [5, 10, 15, 20]  # number of dimensions to experiment with\n",
    "res = np.empty((len(pts), len(atrs)))  # matrix with the results\n",
    "res[:] = np.nan\n",
    "k = 1\n",
    "\n",
    "for n in range(len(pts)):\n",
    "    for m in range(len(atrs)):\n",
    "        prec1 = []\n",
    "        for i in range(5):  # for each dataset size (n rows, m columns) do five experiments and average the results\n",
    "            sys.stdout.write('\\r' + 'experiment' + ' ' + str(k) + '/' + str(len(pts)*len(atrs)))\n",
    "            x, y = generate_points(pts[n], atrs[m])\n",
    "            prim_alg = prim.Prim(x, y, threshold=0.8, peel_alpha=0.1)\n",
    "            box1 = prim_alg.find_box()\n",
    "            prec1.append(box1.density)\n",
    "        res[n, m] = np.mean(prec1)\n",
    "        k = k + 1\n",
    "\n",
    "print(res)\n",
    "\n",
    "pts.reverse()\n",
    "plt.imshow(res, cmap='hot')\n",
    "plt.yticks(np.arange(len(pts)), pts)\n",
    "plt.xticks(np.arange(len(atrs)), atrs)\n",
    "plt.show()"
   ]
  },
  {
   "cell_type": "code",
   "execution_count": null,
   "outputs": [],
   "source": [],
   "metadata": {
    "collapsed": false
   },
   "id": "63ee294ed26e940b"
  }
 ],
 "metadata": {
  "kernelspec": {
   "display_name": "Python 3",
   "language": "python",
   "name": "python3"
  },
  "language_info": {
   "codemirror_mode": {
    "name": "ipython",
    "version": 2
   },
   "file_extension": ".py",
   "mimetype": "text/x-python",
   "name": "python",
   "nbconvert_exporter": "python",
   "pygments_lexer": "ipython2",
   "version": "2.7.6"
  }
 },
 "nbformat": 4,
 "nbformat_minor": 5
}
