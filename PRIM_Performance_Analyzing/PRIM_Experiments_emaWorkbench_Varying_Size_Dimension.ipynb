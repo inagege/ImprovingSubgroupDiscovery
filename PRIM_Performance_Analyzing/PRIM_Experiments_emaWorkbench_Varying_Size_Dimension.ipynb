{
 "cells": [
  {
   "cell_type": "code",
   "execution_count": 3,
   "id": "initial_id",
   "metadata": {
    "collapsed": true,
    "ExecuteTime": {
     "end_time": "2023-10-09T14:01:41.862559Z",
     "start_time": "2023-10-09T13:59:46.583851Z"
    }
   },
   "outputs": [
    {
     "name": "stdout",
     "output_type": "stream",
     "text": [
      "experiment 32/32[[0.64266667 0.95073529 1.         1.        ]\n",
      " [0.67356275 0.9875     0.97532976 0.99130435]\n",
      " [0.82026938 0.97651738 0.99130435 1.        ]\n",
      " [0.70059259 0.84964159 0.97037037 1.        ]\n",
      " [0.6255725  0.70238462 0.88344018 0.95197043]\n",
      " [0.56136364 0.504625   0.84721947 0.87935057]\n",
      " [0.496625   0.5055625  0.505875   0.56140262]\n",
      " [0.49840625 0.4985625  0.4985     0.49421875]]\n"
     ]
    },
    {
     "data": {
      "text/plain": "<Figure size 640x480 with 1 Axes>",
      "image/png": "[encoded data removed]"
     },
     "metadata": {},
     "output_type": "display_data"
    }
   ],
   "source": [
    "import numpy as np\n",
    "import matplotlib.pyplot as plt\n",
    "import sys\n",
    "from ema_workbench.analysis import prim\n",
    "\n",
    "def generate_points(n, m):\n",
    "    # Generate n x m matrix of random points in [0, 1]\n",
    "    x = np.random.rand(n, m)\n",
    "    \n",
    "    # Generate a vector of n random labels (0 or 1)\n",
    "    y = np.random.choice([0, 1], n, replace=True)\n",
    "    \n",
    "    # Return as a dictionary\n",
    "    return x, y\n",
    "\n",
    "pts = [50, 100, 200, 400, 800, 1600, 3200, 6400]  # number of points to experiment with\n",
    "atrs = [5, 10, 15, 20]  # number of dimensions to experiment with\n",
    "res = np.empty((len(pts), len(atrs)))  # matrix with the results\n",
    "res[:] = np.nan\n",
    "k = 1\n",
    "\n",
    "for n in range(len(pts)):\n",
    "    for m in range(len(atrs)):\n",
    "        prec = []\n",
    "        for i in range(5):  # for each dataset size (n rows, m columns) do five experiments and average the results\n",
    "            sys.stdout.write('\\r' + 'experiment' + ' ' + str(k) + '/' + str(len(pts)*len(atrs)))\n",
    "            x, y = generate_points(pts[n], atrs[m])\n",
    "            prim_alg = prim.Prim(x, y, threshold=0.8, peel_alpha=0.1)\n",
    "            box1 = prim_alg.find_box()\n",
    "            prec_temp = []\n",
    "            while box1 is not None:\n",
    "                prec_temp.append(box1.density)\n",
    "                box1 = prim_alg.find_box()\n",
    "            prec.sort()\n",
    "            prec_temp.reverse()\n",
    "            prec.append(prec_temp.pop())\n",
    "        res[n, m] = np.mean(prec)\n",
    "        k = k + 1\n",
    "        \n",
    "print(res)\n",
    "\n",
    "plt.imshow(res, cmap='hot')\n",
    "plt.yticks(np.arange(len(pts)), pts)\n",
    "plt.xticks(np.arange(len(atrs)), atrs)\n",
    "plt.show()"
   ]
  },
  {
   "cell_type": "code",
   "execution_count": 5,
   "outputs": [
    {
     "name": "stdout",
     "output_type": "stream",
     "text": [
      "[[0.93647059 0.98947368 1.         1.        ]\n",
      " [0.75989916 0.96908213 0.99130435 1.        ]\n",
      " [0.71147619 0.96874447 0.98461538 1.        ]\n",
      " [0.58071429 0.75516073 0.99354839 0.98959157]\n",
      " [0.495      0.72115078 0.90810365 0.9470181 ]\n",
      " [0.495375   0.63649815 0.7085855  0.79486885]\n",
      " [0.5000625  0.5033125  0.4964375  0.4935    ]\n",
      " [0.4946875  0.50015625 0.4961875  0.49846875]]\n"
     ]
    }
   ],
   "source": [
    "print(res)"
   ],
   "metadata": {
    "collapsed": false,
    "ExecuteTime": {
     "end_time": "2023-10-09T13:33:03.432283Z",
     "start_time": "2023-10-09T13:33:03.424717Z"
    }
   },
   "id": "63ee294ed26e940b"
  },
  {
   "cell_type": "code",
   "execution_count": null,
   "outputs": [],
   "source": [],
   "metadata": {
    "collapsed": false
   },
   "id": "8818cb06fcafa4a5"
  }
 ],
 "metadata": {
  "kernelspec": {
   "display_name": "Python 3",
   "language": "python",
   "name": "python3"
  },
  "language_info": {
   "codemirror_mode": {
    "name": "ipython",
    "version": 2
   },
   "file_extension": ".py",
   "mimetype": "text/x-python",
   "name": "python",
   "nbconvert_exporter": "python",
   "pygments_lexer": "ipython2",
   "version": "2.7.6"
  }
 },
 "nbformat": 4,
 "nbformat_minor": 5
}
