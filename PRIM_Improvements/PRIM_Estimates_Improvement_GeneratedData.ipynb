{
 "cells": [
  {
   "cell_type": "code",
   "execution_count": 1,
   "id": "initial_id",
   "metadata": {
    "collapsed": true,
    "ExecuteTime": {
     "end_time": "2023-11-13T16:20:50.234445Z",
     "start_time": "2023-11-13T16:20:31.548782Z"
    }
   },
   "outputs": [
    {
     "name": "stderr",
     "output_type": "stream",
     "text": [
      "/Users/inagege/Documents/00_Uni/Bachelorarbeit/ImprovingSubgroupDiscovery/venv/lib/python3.9/site-packages/ema_workbench/em_framework/evaluators.py:58: UserWarning: ipyparallel not installed - IpyparalleEvaluator not available\n",
      "  warnings.warn(\"ipyparallel not installed - IpyparalleEvaluator not available\")\n",
      "/Users/inagege/Documents/00_Uni/Bachelorarbeit/ImprovingSubgroupDiscovery/venv/lib/python3.9/site-packages/statsmodels/tsa/base/tsa_model.py:7: FutureWarning: pandas.Int64Index is deprecated and will be removed from pandas in a future version. Use pandas.Index with the appropriate dtype instead.\n",
      "  from pandas import (to_datetime, Int64Index, DatetimeIndex, Period,\n",
      "/Users/inagege/Documents/00_Uni/Bachelorarbeit/ImprovingSubgroupDiscovery/venv/lib/python3.9/site-packages/statsmodels/tsa/base/tsa_model.py:7: FutureWarning: pandas.Float64Index is deprecated and will be removed from pandas in a future version. Use pandas.Index with the appropriate dtype instead.\n",
      "  from pandas import (to_datetime, Int64Index, DatetimeIndex, Period,\n",
      "/Users/inagege/Documents/00_Uni/Bachelorarbeit/ImprovingSubgroupDiscovery/venv/lib/python3.9/site-packages/ema_workbench/analysis/prim.py:30: ImportWarning: altair based interactive inspection not available\n",
      "  warnings.warn((\"altair based interactive \" \"inspection not available\"), ImportWarning)\n"
     ]
    }
   ],
   "source": [
    "from Utils.util_functions import *\n",
    "from Utils.data_generators import *\n",
    "import statistics\n",
    "package = 'prim'"
   ]
  },
  {
   "cell_type": "code",
   "execution_count": 2,
   "outputs": [
    {
     "name": "stdout",
     "output_type": "stream",
     "text": [
      "experiment 10/10"
     ]
    },
    {
     "data": {
      "text/plain": "<module 'matplotlib.pyplot' from '/Users/inagege/Documents/00_Uni/Bachelorarbeit/ImprovingSubgroupDiscovery/venv/lib/python3.9/site-packages/matplotlib/pyplot.py'>"
     },
     "execution_count": 2,
     "metadata": {},
     "output_type": "execute_result"
    },
    {
     "data": {
      "text/plain": "<Figure size 800x600 with 1 Axes>",
      "image/png": "[encoded data removed]"
     },
     "metadata": {},
     "output_type": "display_data"
    }
   ],
   "source": [
    "#baseline normal dataset, not modified\n",
    "number_of_repeats = 10\n",
    "\n",
    "prec_train = []\n",
    "rec_train = []\n",
    "\n",
    "prec_test = []\n",
    "rec_test = []\n",
    "\n",
    "x_test, y_test = generate_data(calculate_y_oakley_ohagan2004, 15, 100)\n",
    "\n",
    "\n",
    "for i in range(number_of_repeats):\n",
    "    sys.stdout.write('\\r' + 'experiment' + ' ' + str(i + 1) + '/' + str(number_of_repeats))\n",
    "\n",
    "    x, y = generate_data(calculate_y_oakley_ohagan2004, 15, 100)\n",
    "    \n",
    "    precisions, recalls, boxes = get_list_all_precisions_recalls_boxes(x, y, 'ema_workbench')\n",
    "\n",
    "    prec_train, rec_train = add_precision_recall_of_each_box_to_list_each_box(precisions, recalls, prec_train, rec_train)\n",
    "\n",
    "    prec_test_temp, rec_test_temp = calculate_precision_recall_test_data_allboxes(boxes, x_test, y_test)\n",
    "    \n",
    "    prec_test, rec_test = add_precision_recall_of_each_box_to_list_each_box(prec_test_temp, rec_test_temp, prec_test, rec_test)\n",
    "    \n",
    "prec_test = [statistics.mean(l) for l in prec_test]\n",
    "prec_train = [statistics.mean(l) for l in prec_train]\n",
    "rec_test = [statistics.mean(l) for l in rec_test]\n",
    "rec_train = [statistics.mean(l) for l in rec_train]\n",
    "\n",
    "visualize_precision_and_recall(prec_train, rec_train, prec_test, rec_test, 'train', 'test')"
   ],
   "metadata": {
    "collapsed": false,
    "ExecuteTime": {
     "end_time": "2023-11-13T16:21:02.483304Z",
     "start_time": "2023-11-13T16:20:53.044634Z"
    }
   },
   "id": "b4e0cccd8ec59d14"
  },
  {
   "cell_type": "code",
   "execution_count": 5,
   "outputs": [
    {
     "name": "stdout",
     "output_type": "stream",
     "text": [
      "[array([[0.1, 0. , 0. , 0. , 0. , 0. , 0. , 0. , 0. , 0. , 0. , 0. , 0. ,\n",
      "        0. , 0. ],\n",
      "       [1. , 1. , 1. , 1. , 1. , 1. , 1. , 1. , 1. , 1. , 1. , 1. , 1. ,\n",
      "        1. , 1. ]]), array([[0.1, 0. , 0. , 0. , 0. , 0. , 0. , 0. , 0. , 0. , 0.1, 0. , 0. ,\n",
      "        0. , 0. ],\n",
      "       [1. , 1. , 1. , 1. , 1. , 1. , 1. , 1. , 1. , 1. , 1. , 1. , 1. ,\n",
      "        1. , 1. ]]), array([[0.1, 0.1, 0. , 0. , 0. , 0. , 0. , 0. , 0. , 0. , 0.1, 0. , 0. ,\n",
      "        0. , 0. ],\n",
      "       [1. , 1. , 1. , 1. , 1. , 1. , 1. , 1. , 1. , 1. , 1. , 1. , 1. ,\n",
      "        1. , 1. ]]), array([[0.1, 0.1, 0. , 0. , 0. , 0. , 0. , 0. , 0. , 0. , 0.1, 0.1, 0. ,\n",
      "        0. , 0. ],\n",
      "       [1. , 1. , 1. , 1. , 1. , 1. , 1. , 1. , 1. , 1. , 1. , 1. , 1. ,\n",
      "        1. , 1. ]]), array([[0.1 , 0.1 , 0.  , 0.  , 0.  , 0.  , 0.  , 0.  , 0.  , 0.  , 0.19,\n",
      "        0.1 , 0.  , 0.  , 0.  ],\n",
      "       [1.  , 1.  , 1.  , 1.  , 1.  , 1.  , 1.  , 1.  , 1.  , 1.  , 1.  ,\n",
      "        1.  , 1.  , 1.  , 1.  ]]), array([[0.1 , 0.1 , 0.  , 0.  , 0.  , 0.  , 0.  , 0.  , 0.  , 0.  , 0.19,\n",
      "        0.1 , 0.  , 0.1 , 0.  ],\n",
      "       [1.  , 1.  , 1.  , 1.  , 1.  , 1.  , 1.  , 1.  , 1.  , 1.  , 1.  ,\n",
      "        1.  , 1.  , 1.  , 1.  ]]), array([[0.1 , 0.1 , 0.  , 0.  , 0.  , 0.  , 0.  , 0.  , 0.  , 0.  , 0.19,\n",
      "        0.1 , 0.  , 0.19, 0.  ],\n",
      "       [1.  , 1.  , 1.  , 1.  , 1.  , 1.  , 1.  , 1.  , 1.  , 1.  , 1.  ,\n",
      "        1.  , 1.  , 1.  , 1.  ]]), array([[0.1 , 0.1 , 0.  , 0.  , 0.  , 0.  , 0.  , 0.  , 0.  , 0.  , 0.19,\n",
      "        0.1 , 0.1 , 0.19, 0.  ],\n",
      "       [1.  , 1.  , 1.  , 1.  , 1.  , 1.  , 1.  , 1.  , 1.  , 1.  , 1.  ,\n",
      "        1.  , 1.  , 1.  , 1.  ]]), array([[0.1 , 0.1 , 0.  , 0.1 , 0.  , 0.  , 0.  , 0.  , 0.  , 0.  , 0.19,\n",
      "        0.1 , 0.1 , 0.19, 0.  ],\n",
      "       [1.  , 1.  , 1.  , 1.  , 1.  , 1.  , 1.  , 1.  , 1.  , 1.  , 1.  ,\n",
      "        1.  , 1.  , 1.  , 1.  ]]), array([[0.1 , 0.1 , 0.  , 0.19, 0.  , 0.  , 0.  , 0.  , 0.  , 0.  , 0.19,\n",
      "        0.1 , 0.1 , 0.19, 0.  ],\n",
      "       [1.  , 1.  , 1.  , 1.  , 1.  , 1.  , 1.  , 1.  , 1.  , 1.  , 1.  ,\n",
      "        1.  , 1.  , 1.  , 1.  ]]), array([[0.1  , 0.1  , 0.   , 0.271, 0.   , 0.   , 0.   , 0.   , 0.   ,\n",
      "        0.   , 0.19 , 0.1  , 0.1  , 0.19 , 0.   ],\n",
      "       [1.   , 1.   , 1.   , 1.   , 1.   , 1.   , 1.   , 1.   , 1.   ,\n",
      "        1.   , 1.   , 1.   , 1.   , 1.   , 1.   ]]), array([[0.1  , 0.1  , 0.   , 0.271, 0.   , 0.   , 0.   , 0.1  , 0.   ,\n",
      "        0.   , 0.19 , 0.1  , 0.1  , 0.19 , 0.   ],\n",
      "       [1.   , 1.   , 1.   , 1.   , 1.   , 1.   , 1.   , 1.   , 1.   ,\n",
      "        1.   , 1.   , 1.   , 1.   , 1.   , 1.   ]]), array([[0.1  , 0.19 , 0.   , 0.271, 0.   , 0.   , 0.   , 0.1  , 0.   ,\n",
      "        0.   , 0.19 , 0.1  , 0.1  , 0.19 , 0.   ],\n",
      "       [1.   , 1.   , 1.   , 1.   , 1.   , 1.   , 1.   , 1.   , 1.   ,\n",
      "        1.   , 1.   , 1.   , 1.   , 1.   , 1.   ]]), array([[0.1  , 0.19 , 0.   , 0.271, 0.   , 0.   , 0.   , 0.1  , 0.   ,\n",
      "        0.   , 0.19 , 0.1  , 0.1  , 0.19 , 0.   ],\n",
      "       [1.   , 1.   , 1.   , 1.   , 1.   , 1.   , 1.   , 1.   , 1.   ,\n",
      "        1.   , 1.   , 1.   , 0.91 , 1.   , 1.   ]]), array([[0.1  , 0.19 , 0.1  , 0.271, 0.   , 0.   , 0.   , 0.1  , 0.   ,\n",
      "        0.   , 0.19 , 0.1  , 0.1  , 0.19 , 0.   ],\n",
      "       [1.   , 1.   , 1.   , 1.   , 1.   , 1.   , 1.   , 1.   , 1.   ,\n",
      "        1.   , 1.   , 1.   , 0.91 , 1.   , 1.   ]]), array([[0.19 , 0.19 , 0.1  , 0.271, 0.   , 0.   , 0.   , 0.1  , 0.   ,\n",
      "        0.   , 0.19 , 0.1  , 0.1  , 0.19 , 0.   ],\n",
      "       [1.   , 1.   , 1.   , 1.   , 1.   , 1.   , 1.   , 1.   , 1.   ,\n",
      "        1.   , 1.   , 1.   , 0.91 , 1.   , 1.   ]]), array([[0.271, 0.19 , 0.1  , 0.271, 0.   , 0.   , 0.   , 0.1  , 0.   ,\n",
      "        0.   , 0.19 , 0.1  , 0.1  , 0.19 , 0.   ],\n",
      "       [1.   , 1.   , 1.   , 1.   , 1.   , 1.   , 1.   , 1.   , 1.   ,\n",
      "        1.   , 1.   , 1.   , 0.91 , 1.   , 1.   ]]), array([[0.3439, 0.19  , 0.1   , 0.271 , 0.    , 0.    , 0.    , 0.1   ,\n",
      "        0.    , 0.    , 0.19  , 0.1   , 0.1   , 0.19  , 0.    ],\n",
      "       [1.    , 1.    , 1.    , 1.    , 1.    , 1.    , 1.    , 1.    ,\n",
      "        1.    , 1.    , 1.    , 1.    , 0.91  , 1.    , 1.    ]]), array([[0.40951, 0.19   , 0.1    , 0.271  , 0.     , 0.     , 0.     ,\n",
      "        0.1    , 0.     , 0.     , 0.19   , 0.1    , 0.1    , 0.19   ,\n",
      "        0.     ],\n",
      "       [1.     , 1.     , 1.     , 1.     , 1.     , 1.     , 1.     ,\n",
      "        1.     , 1.     , 1.     , 1.     , 1.     , 0.91   , 1.     ,\n",
      "        1.     ]]), array([[0.468559, 0.19    , 0.1     , 0.271   , 0.      , 0.      ,\n",
      "        0.      , 0.1     , 0.      , 0.      , 0.19    , 0.1     ,\n",
      "        0.1     , 0.19    , 0.      ],\n",
      "       [1.      , 1.      , 1.      , 1.      , 1.      , 1.      ,\n",
      "        1.      , 1.      , 1.      , 1.      , 1.      , 1.      ,\n",
      "        0.91    , 1.      , 1.      ]]), array([[0.5217031, 0.19     , 0.1      , 0.271    , 0.       , 0.       ,\n",
      "        0.       , 0.1      , 0.       , 0.       , 0.19     , 0.1      ,\n",
      "        0.1      , 0.19     , 0.       ],\n",
      "       [1.       , 1.       , 1.       , 1.       , 1.       , 1.       ,\n",
      "        1.       , 1.       , 1.       , 1.       , 1.       , 1.       ,\n",
      "        0.91     , 1.       , 1.       ]]), array([[0.56953279, 0.19      , 0.1       , 0.271     , 0.        ,\n",
      "        0.        , 0.        , 0.1       , 0.        , 0.        ,\n",
      "        0.19      , 0.1       , 0.1       , 0.19      , 0.        ],\n",
      "       [1.        , 1.        , 1.        , 1.        , 1.        ,\n",
      "        1.        , 1.        , 1.        , 1.        , 1.        ,\n",
      "        1.        , 1.        , 0.91      , 1.        , 1.        ]]), array([[0.61257951, 0.19      , 0.1       , 0.271     , 0.        ,\n",
      "        0.        , 0.        , 0.1       , 0.        , 0.        ,\n",
      "        0.19      , 0.1       , 0.1       , 0.19      , 0.        ],\n",
      "       [1.        , 1.        , 1.        , 1.        , 1.        ,\n",
      "        1.        , 1.        , 1.        , 1.        , 1.        ,\n",
      "        1.        , 1.        , 0.91      , 1.        , 1.        ]]), array([[0.65132156, 0.19      , 0.1       , 0.271     , 0.        ,\n",
      "        0.        , 0.        , 0.1       , 0.        , 0.        ,\n",
      "        0.19      , 0.1       , 0.1       , 0.19      , 0.        ],\n",
      "       [1.        , 1.        , 1.        , 1.        , 1.        ,\n",
      "        1.        , 1.        , 1.        , 1.        , 1.        ,\n",
      "        1.        , 1.        , 0.91      , 1.        , 1.        ]]), array([[0.6861894, 0.19     , 0.1      , 0.271    , 0.       , 0.       ,\n",
      "        0.       , 0.1      , 0.       , 0.       , 0.19     , 0.1      ,\n",
      "        0.1      , 0.19     , 0.       ],\n",
      "       [1.       , 1.       , 1.       , 1.       , 1.       , 1.       ,\n",
      "        1.       , 1.       , 1.       , 1.       , 1.       , 1.       ,\n",
      "        0.91     , 1.       , 1.       ]]), array([[0.71757046, 0.19      , 0.1       , 0.271     , 0.        ,\n",
      "        0.        , 0.        , 0.1       , 0.        , 0.        ,\n",
      "        0.19      , 0.1       , 0.1       , 0.19      , 0.        ],\n",
      "       [1.        , 1.        , 1.        , 1.        , 1.        ,\n",
      "        1.        , 1.        , 1.        , 1.        , 1.        ,\n",
      "        1.        , 1.        , 0.91      , 1.        , 1.        ]]), array([[0.74581342, 0.19      , 0.1       , 0.271     , 0.        ,\n",
      "        0.        , 0.        , 0.1       , 0.        , 0.        ,\n",
      "        0.19      , 0.1       , 0.1       , 0.19      , 0.        ],\n",
      "       [1.        , 1.        , 1.        , 1.        , 1.        ,\n",
      "        1.        , 1.        , 1.        , 1.        , 1.        ,\n",
      "        1.        , 1.        , 0.91      , 1.        , 1.        ]]), array([[0.77123208, 0.19      , 0.1       , 0.271     , 0.        ,\n",
      "        0.        , 0.        , 0.1       , 0.        , 0.        ,\n",
      "        0.19      , 0.1       , 0.1       , 0.19      , 0.        ],\n",
      "       [1.        , 1.        , 1.        , 1.        , 1.        ,\n",
      "        1.        , 1.        , 1.        , 1.        , 1.        ,\n",
      "        1.        , 1.        , 0.91      , 1.        , 1.        ]]), array([[0.79410887, 0.19      , 0.1       , 0.271     , 0.        ,\n",
      "        0.        , 0.        , 0.1       , 0.        , 0.        ,\n",
      "        0.19      , 0.1       , 0.1       , 0.19      , 0.        ],\n",
      "       [1.        , 1.        , 1.        , 1.        , 1.        ,\n",
      "        1.        , 1.        , 1.        , 1.        , 1.        ,\n",
      "        1.        , 1.        , 0.91      , 1.        , 1.        ]]), array([[0.81469798, 0.19      , 0.1       , 0.271     , 0.        ,\n",
      "        0.        , 0.        , 0.1       , 0.        , 0.        ,\n",
      "        0.19      , 0.1       , 0.1       , 0.19      , 0.        ],\n",
      "       [1.        , 1.        , 1.        , 1.        , 1.        ,\n",
      "        1.        , 1.        , 1.        , 1.        , 1.        ,\n",
      "        1.        , 1.        , 0.91      , 1.        , 1.        ]])]\n"
     ]
    }
   ],
   "source": [],
   "metadata": {
    "collapsed": false,
    "ExecuteTime": {
     "end_time": "2023-11-13T15:02:17.431602Z",
     "start_time": "2023-11-13T15:02:17.389791Z"
    }
   },
   "id": "60e3680608fe7149"
  },
  {
   "cell_type": "code",
   "execution_count": null,
   "outputs": [],
   "source": [],
   "metadata": {
    "collapsed": false
   },
   "id": "2b6a8d0b16210e41"
  }
 ],
 "metadata": {
  "kernelspec": {
   "display_name": "Python 3",
   "language": "python",
   "name": "python3"
  },
  "language_info": {
   "codemirror_mode": {
    "name": "ipython",
    "version": 2
   },
   "file_extension": ".py",
   "mimetype": "text/x-python",
   "name": "python",
   "nbconvert_exporter": "python",
   "pygments_lexer": "ipython2",
   "version": "2.7.6"
  }
 },
 "nbformat": 4,
 "nbformat_minor": 5
}
