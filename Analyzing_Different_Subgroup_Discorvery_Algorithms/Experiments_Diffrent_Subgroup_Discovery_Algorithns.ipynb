{
 "cells": [
  {
   "cell_type": "code",
   "execution_count": 4,
   "id": "initial_id",
   "metadata": {
    "collapsed": true,
    "ExecuteTime": {
     "end_time": "2023-10-06T12:52:19.212794Z",
     "start_time": "2023-10-06T12:52:19.206567Z"
    }
   },
   "outputs": [],
   "source": [
    "import ema_workbench\n",
    "import pysubgroup as ps\n",
    "import pandas as pd\n",
    "import matplotlib.pyplot as plt\n",
    "import numpy as np\n"
   ]
  },
  {
   "cell_type": "code",
   "execution_count": 5,
   "outputs": [],
   "source": [
    "def visualize_precision_and_recall(result):\n",
    "\n",
    "    print(result)\n",
    "\n",
    "    # Create a scatter plot\n",
    "    plt.figure(figsize=(8, 6))\n",
    "    plt.scatter(result['target_share_sg'], result['coverage_sg'], c='blue', marker='o')\n",
    "\n",
    "    plt.xlim(0, 1.1)\n",
    "    plt.ylim(0, 1.1)\n",
    "\n",
    "    # Add labels and a legend\n",
    "    plt.xlabel('Precision')\n",
    "    plt.ylabel('Recall')\n",
    "    plt.title('Precision vs. Recall')\n",
    "    plt.legend()\n",
    "\n",
    "    # Display the plot\n",
    "    plt.grid(True)\n",
    "    return plt"
   ],
   "metadata": {
    "collapsed": false,
    "ExecuteTime": {
     "end_time": "2023-10-06T12:52:19.649434Z",
     "start_time": "2023-10-06T12:52:19.645162Z"
    }
   },
   "id": "6ec063fb0ab71a66"
  },
  {
   "cell_type": "code",
   "execution_count": 6,
   "outputs": [
    {
     "name": "stdout",
     "output_type": "stream",
     "text": [
      "     renew req %  Pricing  Cellulosic cost  Total biomass  \\\n",
      "0           0.25        1       124.900002     612.799988   \n",
      "1           0.25        1        67.300003     837.200012   \n",
      "2           0.25        1        71.000000     740.400024   \n",
      "3           0.25        1        80.099998     995.599976   \n",
      "4           0.25        1        76.400002     476.399994   \n",
      "..           ...      ...              ...            ...   \n",
      "877         0.25        1        99.199997     511.600006   \n",
      "878         0.25        1       102.400002     751.400024   \n",
      "879         0.25        1       100.000000     527.000000   \n",
      "880         0.25        1       108.300003     694.200012   \n",
      "881         0.25        1       121.099998     588.599976   \n",
      "\n",
      "     Feedstock distribution  Cellulosic yield  Oil elasticity  \\\n",
      "0                      0.04         89.500000           0.206   \n",
      "1                      0.18         95.900002           0.277   \n",
      "2                      0.80         83.500000           0.445   \n",
      "3                      0.58         82.400002           0.291   \n",
      "4                      0.79         97.500000           0.443   \n",
      "..                      ...               ...             ...   \n",
      "877                    0.45         89.099998           0.363   \n",
      "878                    0.91         86.800003           0.318   \n",
      "879                    0.59         91.099998           0.410   \n",
      "880                    0.65         99.800003           0.355   \n",
      "881                    0.35         94.599998           0.283   \n",
      "\n",
      "     Demand elasticity  Electricity coproduction  oil supply shift  \\\n",
      "0               -0.469                      1.83             0.078   \n",
      "1               -0.380                      0.01            -0.032   \n",
      "2               -0.778                      0.25            -0.093   \n",
      "3               -0.334                      0.08            -0.086   \n",
      "4               -0.205                      1.59             0.073   \n",
      "..                 ...                       ...               ...   \n",
      "877             -0.387                      1.75            -0.015   \n",
      "878             -0.471                      0.75             0.023   \n",
      "879             -0.567                      0.22             0.062   \n",
      "880             -0.368                      1.62             0.017   \n",
      "881             -0.332                      1.18            -0.007   \n",
      "\n",
      "     Biomass backstop price  input record  Expen change  Incremental cost  \\\n",
      "0                162.199997          1001         60.00            276.47   \n",
      "1                150.300003          1002         19.42             85.07   \n",
      "2                135.800003          1003         17.76            200.11   \n",
      "3                 98.800003          1004         37.88            130.86   \n",
      "4                163.500000          1006         66.13            180.11   \n",
      "..                      ...           ...           ...               ...   \n",
      "877              170.500000          1995         74.22            265.56   \n",
      "878               96.199997          1996         35.97            163.70   \n",
      "879              137.100006          1997         35.96            200.64   \n",
      "880              145.399994          1998         41.42            126.74   \n",
      "881              124.300003          1999         62.17            207.96   \n",
      "\n",
      "     Less than 10%  Greater than 90%  \n",
      "0                0                 0  \n",
      "1                0                 0  \n",
      "2                0                 0  \n",
      "3                0                 0  \n",
      "4                0                 0  \n",
      "..             ...               ...  \n",
      "877              0                 0  \n",
      "878              0                 0  \n",
      "879              0                 0  \n",
      "880              0                 0  \n",
      "881              0                 0  \n",
      "\n",
      "[882 rows x 16 columns]\n"
     ]
    }
   ],
   "source": [
    "data = pd.read_csv('/Users/inagege/Documents/00_Uni/Bachelorarbeit/ImprovingSubgroupDiscovery/Analyzing_Different_Subgroup_Discorvery_Algorithms/Data/Bryant et al 2010.csv')\n",
    "\n",
    "target = ps.BinaryTarget('Greater than 90%', True)\n",
    "search_space = ps.create_selectors(data, ignore={'Less than 10%', 'Greater than 90%'})\n",
    "print(data)"
   ],
   "metadata": {
    "collapsed": false,
    "ExecuteTime": {
     "end_time": "2023-10-06T12:52:20.244165Z",
     "start_time": "2023-10-06T12:52:20.213049Z"
    }
   },
   "id": "1bdf959dd28b87d3"
  },
  {
   "cell_type": "code",
   "execution_count": 7,
   "outputs": [
    {
     "name": "stderr",
     "output_type": "stream",
     "text": [
      "No artists with labels found to put in legend.  Note that artists whose label start with an underscore are ignored when legend() is called with no argument.\n"
     ]
    },
    {
     "name": "stdout",
     "output_type": "stream",
     "text": [
      "     quality                                           subgroup  size_sg  \\\n",
      "0   0.080657          Expen change>=59.49 AND renew req %==0.25      177   \n",
      "1   0.080657                                Expen change>=59.49      177   \n",
      "2   0.080657                 Expen change>=59.49 AND Pricing==1      177   \n",
      "3   0.080657  Expen change>=59.49 AND Pricing==1 AND renew r...      177   \n",
      "4   0.070754   Expen change>=59.49 AND Incremental cost>=250.58      105   \n",
      "..       ...                                                ...      ...   \n",
      "95  0.024798  Demand elasticity>=-0.32 AND Expen change>=59....       31   \n",
      "96  0.023883  Demand elasticity>=-0.32 AND Pricing==1 AND in...       39   \n",
      "97  0.023883  Demand elasticity>=-0.32 AND Pricing==1 AND in...       39   \n",
      "98  0.023883  Demand elasticity>=-0.32 AND input record<1211...       39   \n",
      "99  0.023883     Demand elasticity>=-0.32 AND input record<1211       39   \n",
      "\n",
      "    size_dataset  positives_sg  positives_dataset  size_complement  \\\n",
      "0            882            89                 89              705   \n",
      "1            882            89                 89              705   \n",
      "2            882            89                 89              705   \n",
      "3            882            89                 89              705   \n",
      "4            882            73                 89              777   \n",
      "..           ...           ...                ...              ...   \n",
      "95           882            25                 89              851   \n",
      "96           882            25                 89              843   \n",
      "97           882            25                 89              843   \n",
      "98           882            25                 89              843   \n",
      "99           882            25                 89              843   \n",
      "\n",
      "    relative_size_sg  relative_size_complement  coverage_sg  \\\n",
      "0           0.200680                  0.799320     1.000000   \n",
      "1           0.200680                  0.799320     1.000000   \n",
      "2           0.200680                  0.799320     1.000000   \n",
      "3           0.200680                  0.799320     1.000000   \n",
      "4           0.119048                  0.880952     0.820225   \n",
      "..               ...                       ...          ...   \n",
      "95          0.035147                  0.964853     0.280899   \n",
      "96          0.044218                  0.955782     0.280899   \n",
      "97          0.044218                  0.955782     0.280899   \n",
      "98          0.044218                  0.955782     0.280899   \n",
      "99          0.044218                  0.955782     0.280899   \n",
      "\n",
      "    coverage_complement  target_share_sg  target_share_complement  \\\n",
      "0              0.000000         0.502825                 0.000000   \n",
      "1              0.000000         0.502825                 0.000000   \n",
      "2              0.000000         0.502825                 0.000000   \n",
      "3              0.000000         0.502825                 0.000000   \n",
      "4              0.179775         0.695238                 0.020592   \n",
      "..                  ...              ...                      ...   \n",
      "95             0.719101         0.806452                 0.075206   \n",
      "96             0.719101         0.641026                 0.075919   \n",
      "97             0.719101         0.641026                 0.075919   \n",
      "98             0.719101         0.641026                 0.075919   \n",
      "99             0.719101         0.641026                 0.075919   \n",
      "\n",
      "    target_share_dataset      lift  \n",
      "0               0.100907  4.983051  \n",
      "1               0.100907  4.983051  \n",
      "2               0.100907  4.983051  \n",
      "3               0.100907  4.983051  \n",
      "4               0.100907  6.889888  \n",
      "..                   ...       ...  \n",
      "95              0.100907  7.992026  \n",
      "96              0.100907  6.352636  \n",
      "97              0.100907  6.352636  \n",
      "98              0.100907  6.352636  \n",
      "99              0.100907  6.352636  \n",
      "\n",
      "[100 rows x 15 columns]\n"
     ]
    },
    {
     "data": {
      "text/plain": "<Figure size 800x600 with 1 Axes>",
      "image/png": "[encoded data removed]"
     },
     "metadata": {},
     "output_type": "display_data"
    }
   ],
   "source": [
    "#result_set_size is number of sg which should be created\n",
    "#if a new subgroup is created and we already have result_set_size subgroups its added if the quality is higher than the one of the lowest quality added yet\n",
    "#TODO: whats about parameter depth\n",
    "task = ps.SubgroupDiscoveryTask(data, target, search_space, result_set_size=100, depth=400, qf=ps.WRAccQF())\n",
    "result = ps.DFS().execute(task)\n",
    "#Recall in this statistics is meant by coverage sg\n",
    "#Target_share_sg_means Precision\n",
    "\n",
    "visualize_precision_and_recall(result.to_dataframe()).show()"
   ],
   "metadata": {
    "collapsed": false,
    "ExecuteTime": {
     "end_time": "2023-10-06T12:52:22.196142Z",
     "start_time": "2023-10-06T12:52:21.832072Z"
    }
   },
   "id": "df4f9057f1b8e4cc"
  },
  {
   "cell_type": "code",
   "execution_count": 8,
   "outputs": [
    {
     "name": "stderr",
     "output_type": "stream",
     "text": [
      "No artists with labels found to put in legend.  Note that artists whose label start with an underscore are ignored when legend() is called with no argument.\n"
     ]
    },
    {
     "name": "stdout",
     "output_type": "stream",
     "text": [
      "     quality                                           subgroup  size_sg  \\\n",
      "0   0.080657          Expen change>=59.49 AND renew req %==0.25      177   \n",
      "1   0.080657                                Expen change>=59.49      177   \n",
      "2   0.080657  Expen change>=59.49 AND Pricing==1 AND renew r...      177   \n",
      "3   0.080657                 Expen change>=59.49 AND Pricing==1      177   \n",
      "4   0.070754  Expen change>=59.49 AND Incremental cost>=250....      105   \n",
      "..       ...                                                ...      ...   \n",
      "95  0.024798  Demand elasticity>=-0.32 AND Expen change>=59....       31   \n",
      "96  0.023883  Demand elasticity>=-0.32 AND Pricing==1 AND in...       39   \n",
      "97  0.023883  Demand elasticity>=-0.32 AND input record<1211...       39   \n",
      "98  0.023883  Demand elasticity>=-0.32 AND Pricing==1 AND in...       39   \n",
      "99  0.023883     Demand elasticity>=-0.32 AND input record<1211       39   \n",
      "\n",
      "    size_dataset  positives_sg  positives_dataset  size_complement  \\\n",
      "0            882            89                 89              705   \n",
      "1            882            89                 89              705   \n",
      "2            882            89                 89              705   \n",
      "3            882            89                 89              705   \n",
      "4            882            73                 89              777   \n",
      "..           ...           ...                ...              ...   \n",
      "95           882            25                 89              851   \n",
      "96           882            25                 89              843   \n",
      "97           882            25                 89              843   \n",
      "98           882            25                 89              843   \n",
      "99           882            25                 89              843   \n",
      "\n",
      "    relative_size_sg  relative_size_complement  coverage_sg  \\\n",
      "0           0.200680                  0.799320     1.000000   \n",
      "1           0.200680                  0.799320     1.000000   \n",
      "2           0.200680                  0.799320     1.000000   \n",
      "3           0.200680                  0.799320     1.000000   \n",
      "4           0.119048                  0.880952     0.820225   \n",
      "..               ...                       ...          ...   \n",
      "95          0.035147                  0.964853     0.280899   \n",
      "96          0.044218                  0.955782     0.280899   \n",
      "97          0.044218                  0.955782     0.280899   \n",
      "98          0.044218                  0.955782     0.280899   \n",
      "99          0.044218                  0.955782     0.280899   \n",
      "\n",
      "    coverage_complement  target_share_sg  target_share_complement  \\\n",
      "0              0.000000         0.502825                 0.000000   \n",
      "1              0.000000         0.502825                 0.000000   \n",
      "2              0.000000         0.502825                 0.000000   \n",
      "3              0.000000         0.502825                 0.000000   \n",
      "4              0.179775         0.695238                 0.020592   \n",
      "..                  ...              ...                      ...   \n",
      "95             0.719101         0.806452                 0.075206   \n",
      "96             0.719101         0.641026                 0.075919   \n",
      "97             0.719101         0.641026                 0.075919   \n",
      "98             0.719101         0.641026                 0.075919   \n",
      "99             0.719101         0.641026                 0.075919   \n",
      "\n",
      "    target_share_dataset      lift  \n",
      "0               0.100907  4.983051  \n",
      "1               0.100907  4.983051  \n",
      "2               0.100907  4.983051  \n",
      "3               0.100907  4.983051  \n",
      "4               0.100907  6.889888  \n",
      "..                   ...       ...  \n",
      "95              0.100907  7.992026  \n",
      "96              0.100907  6.352636  \n",
      "97              0.100907  6.352636  \n",
      "98              0.100907  6.352636  \n",
      "99              0.100907  6.352636  \n",
      "\n",
      "[100 rows x 15 columns]\n"
     ]
    },
    {
     "data": {
      "text/plain": "<Figure size 800x600 with 1 Axes>",
      "image/png": "[encoded data removed]"
     },
     "metadata": {},
     "output_type": "display_data"
    }
   ],
   "source": [
    "result = ps.BeamSearch(beam_width=300).execute(task)\n",
    "visualize_precision_and_recall(result.to_dataframe()).show()"
   ],
   "metadata": {
    "collapsed": false,
    "ExecuteTime": {
     "end_time": "2023-10-06T12:52:25.381767Z",
     "start_time": "2023-10-06T12:52:23.328365Z"
    }
   },
   "id": "2bcfae0858d5df90"
  },
  {
   "cell_type": "code",
   "execution_count": 9,
   "outputs": [
    {
     "name": "stderr",
     "output_type": "stream",
     "text": [
      "/Users/inagege/Documents/00_Uni/Bachelorarbeit/ImprovingSubgroupDiscovery/venv/lib/python3.9/site-packages/pysubgroup/binary_target.py:356: RuntimeWarning: invalid value encountered in divide\n",
      "  p_subgroup = np.divide(positives_subgroup, instances_subgroup)\n",
      "No artists with labels found to put in legend.  Note that artists whose label start with an underscore are ignored when legend() is called with no argument.\n"
     ]
    },
    {
     "name": "stdout",
     "output_type": "stream",
     "text": [
      "     quality                                           subgroup  size_sg  \\\n",
      "0   0.080657                                Expen change>=59.49      177   \n",
      "1   0.080657                 Expen change>=59.49 AND Pricing==1      177   \n",
      "2   0.080657  Expen change>=59.49 AND Pricing==1 AND renew r...      177   \n",
      "3   0.080657          Expen change>=59.49 AND renew req %==0.25      177   \n",
      "4   0.070754  Expen change>=59.49 AND Incremental cost>=250....      105   \n",
      "..       ...                                                ...      ...   \n",
      "95  0.024798  Demand elasticity>=-0.32 AND Expen change>=59....       31   \n",
      "96  0.023883  Demand elasticity>=-0.32 AND Pricing==1 AND in...       39   \n",
      "97  0.023883  Demand elasticity>=-0.32 AND input record<1211...       39   \n",
      "98  0.023883  Demand elasticity>=-0.32 AND Pricing==1 AND in...       39   \n",
      "99  0.023883     Demand elasticity>=-0.32 AND input record<1211       39   \n",
      "\n",
      "    size_dataset  positives_sg  positives_dataset  size_complement  \\\n",
      "0            882            89                 89              705   \n",
      "1            882            89                 89              705   \n",
      "2            882            89                 89              705   \n",
      "3            882            89                 89              705   \n",
      "4            882            73                 89              777   \n",
      "..           ...           ...                ...              ...   \n",
      "95           882            25                 89              851   \n",
      "96           882            25                 89              843   \n",
      "97           882            25                 89              843   \n",
      "98           882            25                 89              843   \n",
      "99           882            25                 89              843   \n",
      "\n",
      "    relative_size_sg  relative_size_complement  coverage_sg  \\\n",
      "0           0.200680                  0.799320     1.000000   \n",
      "1           0.200680                  0.799320     1.000000   \n",
      "2           0.200680                  0.799320     1.000000   \n",
      "3           0.200680                  0.799320     1.000000   \n",
      "4           0.119048                  0.880952     0.820225   \n",
      "..               ...                       ...          ...   \n",
      "95          0.035147                  0.964853     0.280899   \n",
      "96          0.044218                  0.955782     0.280899   \n",
      "97          0.044218                  0.955782     0.280899   \n",
      "98          0.044218                  0.955782     0.280899   \n",
      "99          0.044218                  0.955782     0.280899   \n",
      "\n",
      "    coverage_complement  target_share_sg  target_share_complement  \\\n",
      "0              0.000000         0.502825                 0.000000   \n",
      "1              0.000000         0.502825                 0.000000   \n",
      "2              0.000000         0.502825                 0.000000   \n",
      "3              0.000000         0.502825                 0.000000   \n",
      "4              0.179775         0.695238                 0.020592   \n",
      "..                  ...              ...                      ...   \n",
      "95             0.719101         0.806452                 0.075206   \n",
      "96             0.719101         0.641026                 0.075919   \n",
      "97             0.719101         0.641026                 0.075919   \n",
      "98             0.719101         0.641026                 0.075919   \n",
      "99             0.719101         0.641026                 0.075919   \n",
      "\n",
      "    target_share_dataset      lift  \n",
      "0               0.100907  4.983051  \n",
      "1               0.100907  4.983051  \n",
      "2               0.100907  4.983051  \n",
      "3               0.100907  4.983051  \n",
      "4               0.100907  6.889888  \n",
      "..                   ...       ...  \n",
      "95              0.100907  7.992026  \n",
      "96              0.100907  6.352636  \n",
      "97              0.100907  6.352636  \n",
      "98              0.100907  6.352636  \n",
      "99              0.100907  6.352636  \n",
      "\n",
      "[100 rows x 15 columns]\n"
     ]
    },
    {
     "data": {
      "text/plain": "<Figure size 800x600 with 1 Axes>",
      "image/png": "[encoded data removed]"
     },
     "metadata": {},
     "output_type": "display_data"
    }
   ],
   "source": [
    "result = ps.Apriori().execute(task)\n",
    "visualize_precision_and_recall(result.to_dataframe()).show()"
   ],
   "metadata": {
    "collapsed": false,
    "ExecuteTime": {
     "end_time": "2023-10-06T12:52:26.378435Z",
     "start_time": "2023-10-06T12:52:26.200212Z"
    }
   },
   "id": "72eb1ea73a2a7780"
  }
 ],
 "metadata": {
  "kernelspec": {
   "display_name": "Python 3",
   "language": "python",
   "name": "python3"
  },
  "language_info": {
   "codemirror_mode": {
    "name": "ipython",
    "version": 2
   },
   "file_extension": ".py",
   "mimetype": "text/x-python",
   "name": "python",
   "nbconvert_exporter": "python",
   "pygments_lexer": "ipython2",
   "version": "2.7.6"
  }
 },
 "nbformat": 4,
 "nbformat_minor": 5
}
